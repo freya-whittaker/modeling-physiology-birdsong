{
 "cells": [
  {
   "cell_type": "code",
   "execution_count": 1,
   "metadata": {},
   "outputs": [],
   "source": [
    "%load_ext autoreload\n",
    "%autoreload 2"
   ]
  },
  {
   "cell_type": "code",
   "execution_count": 2,
   "metadata": {},
   "outputs": [],
   "source": [
    "from dataset_parser import (\n",
    "    get_ordered_syllable_for_song,\n",
    "    get_recording_time_from_filename,\n",
    "    load_single_bird_syllable_csv,\n",
    "    split_dataset_by_surgery_date\n",
    ")"
   ]
  },
  {
   "cell_type": "code",
   "execution_count": 3,
   "metadata": {},
   "outputs": [
    {
     "name": "stdout",
     "output_type": "stream",
     "text": [
      "52151\n",
      "{'animal_id': 'USA5288',\n",
      " 'file_name': 'USA5288_45355.32438532_3_4_9_0_38.wav',\n",
      " 'ordered_and_timed_syllables': [('8', 0.0, 1813.3333333333335),\n",
      "                                 ('21', 1813.3333333333335, 3348.730158730159),\n",
      "                                 ('22', 3348.730158730159, 4425.396825396826),\n",
      "                                 ('21', 4425.396825396826, 4611.587301587302),\n",
      "                                 ('22', 4611.587301587302, 4619.68253968254),\n",
      "                                 ('21', 4619.68253968254, 4622.380952380952),\n",
      "                                 ('22', 4622.380952380952, 4625.079365079366),\n",
      "                                 ('21', 4625.079365079366, 4630.476190476191),\n",
      "                                 ('26', 4630.476190476191, 4751.904761904762),\n",
      "                                 ('23', 4751.904761904762, 5010.952380952382),\n",
      "                                 ('2', 5010.952380952382, 5785.396825396826),\n",
      "                                 ('3', 5785.396825396826, 8041.269841269842),\n",
      "                                 ('26', 8041.269841269842, 8068.253968253969),\n",
      "                                 ('5', 8068.253968253969, 8618.730158730159),\n",
      "                                 ('11', 8618.730158730159, 8929.04761904762),\n",
      "                                 ('14', 8929.04761904762, 9028.888888888889)],\n",
      " 'recording_time': datetime.datetime(2024, 3, 4, 9, 0, 38),\n",
      " 'song_present': 'True'}\n"
     ]
    }
   ],
   "source": [
    "import pprint\n",
    "file_path = 'Modeling_phys_canary/USA5288_decoded.csv'\n",
    "\n",
    "results = load_single_bird_syllable_csv(file_path)\n",
    "print(len(results))\n",
    "pprint.pprint(results[1])"
   ]
  },
  {
   "cell_type": "code",
   "execution_count": 4,
   "metadata": {},
   "outputs": [
    {
     "data": {
      "text/plain": [
       "datetime.datetime(2024, 4, 9, 0, 0)"
      ]
     },
     "execution_count": 4,
     "metadata": {},
     "output_type": "execute_result"
    }
   ],
   "source": [
    "import json\n",
    "from datetime import datetime\n",
    "json_file_path = 'Modeling_phys_canary/USA5288_creation_data.json'\n",
    "\n",
    "with open(json_file_path, 'r') as f:\n",
    "    data = json.load(f)\n",
    "\n",
    "    surgery_treatment_date = datetime.strptime(\n",
    "        data['treatment_date'], '%Y-%m-%d')\n",
    "\n",
    "surgery_treatment_date"
   ]
  },
  {
   "cell_type": "code",
   "execution_count": 5,
   "metadata": {},
   "outputs": [
    {
     "data": {
      "text/plain": [
       "(33374, 18777)"
      ]
     },
     "execution_count": 5,
     "metadata": {},
     "output_type": "execute_result"
    }
   ],
   "source": [
    "results_pre_surgery, results_post_surgery = split_dataset_by_surgery_date(results, surgery_treatment_date)\n",
    "len(results_pre_surgery), len(results_post_surgery)"
   ]
  },
  {
   "cell_type": "code",
   "execution_count": 17,
   "metadata": {},
   "outputs": [
    {
     "data": {
      "text/plain": [
       "[['8',\n",
       "  '21',\n",
       "  '22',\n",
       "  '21',\n",
       "  '22',\n",
       "  '21',\n",
       "  '22',\n",
       "  '21',\n",
       "  '26',\n",
       "  '23',\n",
       "  '2',\n",
       "  '3',\n",
       "  '26',\n",
       "  '5',\n",
       "  '11',\n",
       "  '14']]"
      ]
     },
     "execution_count": 17,
     "metadata": {},
     "output_type": "execute_result"
    }
   ],
   "source": [
    "single_syllable = []\n",
    "for result in results_pre_surgery:\n",
    "    if len(result['ordered_and_timed_syllables']) == 0:\n",
    "        continue\n",
    "\n",
    "    single_syllable.append([\n",
    "        str(s[0]) for s in result['ordered_and_timed_syllables']\n",
    "    ])\n",
    "\n",
    "single_syllable[0:1]"
   ]
  },
  {
   "cell_type": "code",
   "execution_count": 19,
   "metadata": {},
   "outputs": [
    {
     "data": {
      "text/plain": [
       "30"
      ]
     },
     "execution_count": 19,
     "metadata": {},
     "output_type": "execute_result"
    }
   ],
   "source": [
    "#### BUILD YOUR ALPHABET HERE and SYLLABLE MAPPING HERE####\n",
    "import numpy as np\n",
    "from pypst.transition_mat import build_alphabet_from_dataset\n",
    "\n",
    "dataset = single_syllable\n",
    "\n",
    "alphabet = build_alphabet_from_dataset(dataset)\n",
    "len(alphabet)"
   ]
  },
  {
   "cell_type": "code",
   "execution_count": 20,
   "metadata": {},
   "outputs": [],
   "source": [
    "from pypst.transition_mat import build_transition_matrix\n",
    "from pypst.pst_learn import pst_learn\n",
    "\n",
    "transition_matrix = build_transition_matrix(\n",
    "    dataset,\n",
    "    2,\n",
    "    alphabet=alphabet)\n",
    "\n",
    "\n",
    "L = 2;\n",
    "p_min = 0.0073 #1e-15 #.01 #0.0073 #0.1e-15 #0.0073;\n",
    "g_min = .01 # 1e-15 #0.185;\n",
    "r = 1.6;\n",
    "alpha = 17.5;\n",
    "\n",
    "\n",
    "\n",
    "pst = pst_learn(\n",
    "    transition_matrix['occurrence_mats'],\n",
    "    alphabet=transition_matrix['alphabet'],\n",
    "    N=transition_matrix['N'],\n",
    "    L=L,\n",
    "    p_min=p_min,\n",
    "    g_min=g_min,\n",
    "    r=r,\n",
    "    alpha=alpha)"
   ]
  },
  {
   "cell_type": "code",
   "execution_count": null,
   "metadata": {},
   "outputs": [],
   "source": []
  },
  {
   "cell_type": "code",
   "execution_count": null,
   "metadata": {},
   "outputs": [],
   "source": []
  }
 ],
 "metadata": {
  "kernelspec": {
   "display_name": ".venv",
   "language": "python",
   "name": "python3"
  },
  "language_info": {
   "codemirror_mode": {
    "name": "ipython",
    "version": 3
   },
   "file_extension": ".py",
   "mimetype": "text/x-python",
   "name": "python",
   "nbconvert_exporter": "python",
   "pygments_lexer": "ipython3",
   "version": "3.12.7"
  }
 },
 "nbformat": 4,
 "nbformat_minor": 2
}
